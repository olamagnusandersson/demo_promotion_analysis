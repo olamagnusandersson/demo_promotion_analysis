{
 "cells": [
  {
   "cell_type": "markdown",
   "metadata": {},
   "source": [
    "# Packages"
   ]
  },
  {
   "cell_type": "code",
   "execution_count": 11,
   "metadata": {},
   "outputs": [],
   "source": [
    "import numpy as np\n",
    "import pandas as pd\n",
    "from scipy.special import expit  # Sigmoid function for logistic regression\n",
    "\n",
    "from dowhy import CausalModel\n",
    "import dowhy.causal_estimators.generalized_linear_model_estimator\n",
    "import dowhy.datasets\n",
    "import dowhy.causal_estimators.linear_regression_estimator\n",
    "import statsmodels.api as sm\n",
    "import statsmodels.formula.api as smf\n",
    "\n",
    "import dowhy.causal_estimators.linear_regression_estimator\n",
    "import statsmodels.genmod.families.links as links\n",
    "\n",
    "# Warnings and logging\n",
    "import warnings\n",
    "warnings.filterwarnings('ignore')"
   ]
  },
  {
   "cell_type": "markdown",
   "metadata": {},
   "source": [
    "# Data Simulation"
   ]
  },
  {
   "cell_type": "code",
   "execution_count": 215,
   "metadata": {},
   "outputs": [
    {
     "data": {
      "text/plain": [
       "promotion                      0.936300\n",
       "time_spent_reading_reviews     2.868374\n",
       "bought_product_A               0.903200\n",
       "income                         1.998932\n",
       "total_amount_spent            31.014293\n",
       "dtype: float64"
      ]
     },
     "execution_count": 215,
     "metadata": {},
     "output_type": "execute_result"
    }
   ],
   "source": [
    "# Simulation parameters\n",
    "np.random.seed(42)\n",
    "n = 10000  # Number of samples\n",
    "beta_M0 = 1 # Intercept for mediator model\n",
    "beta_MX = 2  # Effect of promotion on time spent reading reviews\n",
    "beta_Y0 = 1.0  # Intercept for outcome model\n",
    "beta_YX = 2.5  # Direct effect of promotion on buying product A\n",
    "beta_YM = -1.2  # Effect of time spent reading reviews on buying product A\n",
    "sigma_M = 1.0  # Standard deviation of mediator noise\n",
    "beta_income_X = 1.5  # Effect of income on promotion\n",
    "beta_income_Y = 1.5  # Effect of income on buying product A\n",
    "\n",
    "# Simulate confounder (income), continuous\n",
    "income = np.random.normal(2, 0.5, n)\n",
    "\n",
    "# Simulate treatment (promotion), binary, influenced by income\n",
    "promotion_prob = expit(beta_income_X * income)  # Probability of promotion depends on income\n",
    "promotion = np.random.binomial(1, promotion_prob, n)\n",
    "\n",
    "# Simulate mediator (time spent reading reviews), continuous\n",
    "time_spent_reading_reviews = beta_M0 + beta_MX * promotion  + np.random.normal(0, sigma_M, n)\n",
    "\n",
    "# Simulate outcome (bought_product_A), binary\n",
    "linear_predictor_Y = (\n",
    "    beta_Y0\n",
    "    + beta_YX * promotion\n",
    "    + beta_YM * time_spent_reading_reviews\n",
    "    + beta_income_Y * income\n",
    ")\n",
    "bought_product_A = np.random.binomial(1, expit(linear_predictor_Y))\n",
    "\n",
    "# Collider depends on promotion and outcome\n",
    "total_amount_spent = 5 + 3 * promotion + 20 * bought_product_A + np.random.normal(5, 10, n)\n",
    "\n",
    "\n",
    "# Create DataFrame\n",
    "data = pd.DataFrame({\n",
    "    'promotion': promotion,\n",
    "    'time_spent_reading_reviews': time_spent_reading_reviews,\n",
    "    'bought_product_A': bought_product_A,\n",
    "    'income': income,\n",
    "    'total_amount_spent': total_amount_spent\n",
    "})\n",
    "\n",
    "\n",
    "data.mean()"
   ]
  },
  {
   "cell_type": "markdown",
   "metadata": {},
   "source": [
    "# Different ways to analyze the same data"
   ]
  },
  {
   "cell_type": "code",
   "execution_count": 162,
   "metadata": {},
   "outputs": [],
   "source": [
    "graph=\"\"\"digraph {\n",
    "promotion -> bought_product_A;\n",
    "promotion -> time_spent_reading_reviews;\n",
    "time_spent_reading_reviews -> bought_product_A;\n",
    "income -> bought_product_A;\n",
    "income -> promotion;\n",
    "income -> time_spent_reading_reviews;\n",
    "}\n",
    "\"\"\""
   ]
  },
  {
   "cell_type": "markdown",
   "metadata": {},
   "source": [
    "## Mediation analysis"
   ]
  },
  {
   "cell_type": "code",
   "execution_count": 203,
   "metadata": {
    "scrolled": false
   },
   "outputs": [
    {
     "name": "stdout",
     "output_type": "stream",
     "text": [
      "Estimand type: nonparametric-nde\n",
      "\n",
      "### Estimand : 1\n",
      "Estimand name: mediation\n",
      "Estimand expression:\n",
      "Expectation(Derivative(bought_product_A|time_spent_reading_reviews, [promotion\n",
      "]))\n",
      "Estimand assumption 1, Mediation: time_spent_reading_reviews intercepts (blocks) all directed paths from promotion to b,o,u,g,h,t,_,p,r,o,d,u,c,t,_,A except the path {promotion}→{b,o,u,g,h,t,_,p,r,o,d,u,c,t,_,A}.\n",
      "Estimand assumption 2, First-stage-unconfoundedness: If U→{promotion} and U→{time_spent_reading_reviews} then P(time_spent_reading_reviews|promotion,U) = P(time_spent_reading_reviews|promotion)\n",
      "Estimand assumption 3, Second-stage-unconfoundedness: If U→{time_spent_reading_reviews} and U→bought_product_A then P(bought_product_A|time_spent_reading_reviews, promotion, U) = P(bought_product_A|time_spent_reading_reviews, promotion)\n",
      "\n",
      "Estimand type: nonparametric-nie\n",
      "\n",
      "### Estimand : 1\n",
      "Estimand name: mediation\n",
      "Estimand expression:\n",
      "Expectation(Derivative(bought_product_A, [time_spent_reading_reviews])*Derivat\n",
      "ive([time_spent_reading_reviews], [promotion]))\n",
      "Estimand assumption 1, Mediation: time_spent_reading_reviews intercepts (blocks) all directed paths from promotion to b,o,u,g,h,t,_,p,r,o,d,u,c,t,_,A except the path {promotion}→{b,o,u,g,h,t,_,p,r,o,d,u,c,t,_,A}.\n",
      "Estimand assumption 2, First-stage-unconfoundedness: If U→{promotion} and U→{time_spent_reading_reviews} then P(time_spent_reading_reviews|promotion,U) = P(time_spent_reading_reviews|promotion)\n",
      "Estimand assumption 3, Second-stage-unconfoundedness: If U→{time_spent_reading_reviews} and U→bought_product_A then P(bought_product_A|time_spent_reading_reviews, promotion, U) = P(bought_product_A|time_spent_reading_reviews, promotion)\n",
      "\n"
     ]
    }
   ],
   "source": [
    "model = CausalModel(data,\n",
    "                    treatment = 'promotion',\n",
    "                    outcome = 'bought_product_A',\n",
    "                    mediator='time_spent_reading_reviews',\n",
    "                    common_causes=['income'],\n",
    "                    identify_vars=True,\n",
    "                    graph=graph,\n",
    "                  )\n",
    "\n",
    "\n",
    "# Natural direct effect (nde)\n",
    "identified_estimand_nde = model.identify_effect(estimand_type=\"nonparametric-nde\",\n",
    "                                            proceed_when_unidentifiable=False)\n",
    "print(identified_estimand_nde)\n",
    "\n",
    "# Natural indirect effect (nie)\n",
    "identified_estimand_nie = model.identify_effect(estimand_type=\"nonparametric-nie\",\n",
    "                                            proceed_when_unidentifiable=False)\n",
    "print(identified_estimand_nie)"
   ]
  },
  {
   "cell_type": "code",
   "execution_count": 204,
   "metadata": {},
   "outputs": [
    {
     "name": "stdout",
     "output_type": "stream",
     "text": [
      "two_stage_regression\n",
      "{'control_value': 0, 'treatment_value': 1, 'test_significance': False, 'evaluate_effect_strength': False, 'confidence_intervals': False, 'target_units': 'ate', 'effect_modifiers': [], 'first_stage_model': <class 'dowhy.causal_estimators.linear_regression_estimator.LinearRegressionEstimator'>, 'second_stage_model': <class 'dowhy.causal_estimators.generalized_linear_model_estimator.GeneralizedLinearModelEstimator'>, 'glm_family': <statsmodels.genmod.families.family.Binomial object at 0x000001EF570D2D48>}\n",
      "*** Causal Estimate ***\n",
      "\n",
      "## Identified estimand\n",
      "Estimand type: nonparametric-nie\n",
      "\n",
      "### Estimand : 1\n",
      "Estimand name: mediation\n",
      "Estimand expression:\n",
      "Expectation(Derivative(bought_product_A, [time_spent_reading_reviews])*Derivat\n",
      "ive([time_spent_reading_reviews], [promotion]))\n",
      "Estimand assumption 1, Mediation: time_spent_reading_reviews intercepts (blocks) all directed paths from promotion to b,o,u,g,h,t,_,p,r,o,d,u,c,t,_,A except the path {promotion}→{b,o,u,g,h,t,_,p,r,o,d,u,c,t,_,A}.\n",
      "Estimand assumption 2, First-stage-unconfoundedness: If U→{promotion} and U→{time_spent_reading_reviews} then P(time_spent_reading_reviews|promotion,U) = P(time_spent_reading_reviews|promotion)\n",
      "Estimand assumption 3, Second-stage-unconfoundedness: If U→{time_spent_reading_reviews} and U→bought_product_A then P(bought_product_A|time_spent_reading_reviews, promotion, U) = P(bought_product_A|time_spent_reading_reviews, promotion)\n",
      "\n",
      "## Realized estimand\n",
      "(b: time_spent_reading_reviews~promotion+income)*(b: bought_product_A~Sigmoid(time_spent_reading_reviews+income+promotion))\n",
      "Target units: ate\n",
      "\n",
      "## Estimate\n",
      "Mean value: -0.01593733618553198\n",
      "\n",
      "two_stage_regression\n",
      "{'control_value': 0, 'treatment_value': 1, 'test_significance': False, 'evaluate_effect_strength': False, 'confidence_intervals': False, 'target_units': 'ate', 'effect_modifiers': [], 'first_stage_model': <class 'dowhy.causal_estimators.linear_regression_estimator.LinearRegressionEstimator'>, 'second_stage_model': <class 'dowhy.causal_estimators.generalized_linear_model_estimator.GeneralizedLinearModelEstimator'>, 'glm_family': <statsmodels.genmod.families.family.Binomial object at 0x000001EF5729EE08>}\n",
      "*** Causal Estimate ***\n",
      "\n",
      "## Identified estimand\n",
      "Estimand type: nonparametric-nde\n",
      "\n",
      "### Estimand : 1\n",
      "Estimand name: mediation\n",
      "Estimand expression:\n",
      "Expectation(Derivative(bought_product_A|time_spent_reading_reviews, [promotion\n",
      "]))\n",
      "Estimand assumption 1, Mediation: time_spent_reading_reviews intercepts (blocks) all directed paths from promotion to b,o,u,g,h,t,_,p,r,o,d,u,c,t,_,A except the path {promotion}→{b,o,u,g,h,t,_,p,r,o,d,u,c,t,_,A}.\n",
      "Estimand assumption 2, First-stage-unconfoundedness: If U→{promotion} and U→{time_spent_reading_reviews} then P(time_spent_reading_reviews|promotion,U) = P(time_spent_reading_reviews|promotion)\n",
      "Estimand assumption 3, Second-stage-unconfoundedness: If U→{time_spent_reading_reviews} and U→bought_product_A then P(bought_product_A|time_spent_reading_reviews, promotion, U) = P(bought_product_A|time_spent_reading_reviews, promotion)\n",
      "\n",
      "## Realized estimand\n",
      "(b: bought_product_A~Sigmoid(promotion+income)) - ((b: time_spent_reading_reviews~promotion+income)*(b: bought_product_A~Sigmoid(time_spent_reading_reviews+income+promotion)))\n",
      "Target units: ate\n",
      "\n",
      "## Estimate\n",
      "Mean value: 0.0005303300408936763\n",
      "\n"
     ]
    }
   ],
   "source": [
    "probit = links.probit()\n",
    "causal_estimate_nie = model.estimate_effect(identified_estimand_nie,\n",
    "                                        method_name=\"mediation.two_stage_regression\",\n",
    "                                       confidence_intervals=False,\n",
    "                                       test_significance=False,\n",
    "                                        method_params = {\n",
    "                                            'first_stage_model': dowhy.causal_estimators.linear_regression_estimator.LinearRegressionEstimator,\n",
    "                                            'second_stage_model': dowhy.causal_estimators.generalized_linear_model_estimator.GeneralizedLinearModelEstimator,\n",
    "                                            'glm_family': sm.families.Binomial(probit),\n",
    "                                        }\n",
    "                                       )\n",
    "print(causal_estimate_nie)\n",
    "\n",
    "causal_estimate_nde = model.estimate_effect(identified_estimand_nde,\n",
    "                                        method_name=\"mediation.two_stage_regression\",\n",
    "                                       confidence_intervals=False,\n",
    "                                       test_significance=False,\n",
    "                                        method_params = {\n",
    "                                            'first_stage_model': dowhy.causal_estimators.linear_regression_estimator.LinearRegressionEstimator,\n",
    "                                            'second_stage_model': dowhy.causal_estimators.generalized_linear_model_estimator.GeneralizedLinearModelEstimator,\n",
    "                                            'glm_family': sm.families.Binomial(probit),\n",
    "                                        }\n",
    "                                       )\n",
    "print(causal_estimate_nde)"
   ]
  },
  {
   "cell_type": "code",
   "execution_count": 205,
   "metadata": {},
   "outputs": [
    {
     "data": {
      "image/png": "[encoded data removed]",
      "text/latex": [
       "$\\displaystyle -1.5407006144638302$"
      ],
      "text/plain": [
       "-1.5407006144638302"
      ]
     },
     "execution_count": 205,
     "metadata": {},
     "output_type": "execute_result"
    }
   ],
   "source": [
    "(causal_estimate_nde.value + causal_estimate_nie.value) * 100"
   ]
  },
  {
   "cell_type": "markdown",
   "metadata": {},
   "source": [
    "## Adjusting for confounder"
   ]
  },
  {
   "cell_type": "code",
   "execution_count": 216,
   "metadata": {},
   "outputs": [
    {
     "name": "stdout",
     "output_type": "stream",
     "text": [
      "-1.5407006144638307\n"
     ]
    },
    {
     "data": {
      "text/html": [
       "<table class=\"simpletable\">\n",
       "<caption>Generalized Linear Model Regression Results</caption>\n",
       "<tr>\n",
       "  <th>Dep. Variable:</th>   <td>bought_product_A</td> <th>  No. Observations:  </th>  <td> 10000</td> \n",
       "</tr>\n",
       "<tr>\n",
       "  <th>Model:</th>                  <td>GLM</td>       <th>  Df Residuals:      </th>  <td>  9997</td> \n",
       "</tr>\n",
       "<tr>\n",
       "  <th>Model Family:</th>        <td>Binomial</td>     <th>  Df Model:          </th>  <td>     2</td> \n",
       "</tr>\n",
       "<tr>\n",
       "  <th>Link Function:</th>        <td>probit</td>      <th>  Scale:             </th> <td>  1.0000</td>\n",
       "</tr>\n",
       "<tr>\n",
       "  <th>Method:</th>                <td>IRLS</td>       <th>  Log-Likelihood:    </th> <td> -3004.6</td>\n",
       "</tr>\n",
       "<tr>\n",
       "  <th>Date:</th>            <td>Mon, 09 Dec 2024</td> <th>  Deviance:          </th> <td>  6009.2</td>\n",
       "</tr>\n",
       "<tr>\n",
       "  <th>Time:</th>                <td>10:29:21</td>     <th>  Pearson chi2:      </th> <td>1.01e+04</td>\n",
       "</tr>\n",
       "<tr>\n",
       "  <th>No. Iterations:</th>          <td>6</td>        <th>                     </th>     <td> </td>   \n",
       "</tr>\n",
       "<tr>\n",
       "  <th>Covariance Type:</th>     <td>nonrobust</td>    <th>                     </th>     <td> </td>   \n",
       "</tr>\n",
       "</table>\n",
       "<table class=\"simpletable\">\n",
       "<tr>\n",
       "      <td></td>         <th>coef</th>     <th>std err</th>      <th>z</th>      <th>P>|z|</th>  <th>[0.025</th>    <th>0.975]</th>  \n",
       "</tr>\n",
       "<tr>\n",
       "  <th>Intercept</th> <td>    0.1062</td> <td>    0.087</td> <td>    1.221</td> <td> 0.222</td> <td>   -0.064</td> <td>    0.277</td>\n",
       "</tr>\n",
       "<tr>\n",
       "  <th>promotion</th> <td>   -0.1001</td> <td>    0.070</td> <td>   -1.436</td> <td> 0.151</td> <td>   -0.237</td> <td>    0.036</td>\n",
       "</tr>\n",
       "<tr>\n",
       "  <th>income</th>    <td>    0.6801</td> <td>    0.038</td> <td>   17.898</td> <td> 0.000</td> <td>    0.606</td> <td>    0.755</td>\n",
       "</tr>\n",
       "</table>"
      ],
      "text/plain": [
       "<class 'statsmodels.iolib.summary.Summary'>\n",
       "\"\"\"\n",
       "                 Generalized Linear Model Regression Results                  \n",
       "==============================================================================\n",
       "Dep. Variable:       bought_product_A   No. Observations:                10000\n",
       "Model:                            GLM   Df Residuals:                     9997\n",
       "Model Family:                Binomial   Df Model:                            2\n",
       "Link Function:                 probit   Scale:                          1.0000\n",
       "Method:                          IRLS   Log-Likelihood:                -3004.6\n",
       "Date:                Mon, 09 Dec 2024   Deviance:                       6009.2\n",
       "Time:                        10:29:21   Pearson chi2:                 1.01e+04\n",
       "No. Iterations:                     6                                         \n",
       "Covariance Type:            nonrobust                                         \n",
       "==============================================================================\n",
       "                 coef    std err          z      P>|z|      [0.025      0.975]\n",
       "------------------------------------------------------------------------------\n",
       "Intercept      0.1062      0.087      1.221      0.222      -0.064       0.277\n",
       "promotion     -0.1001      0.070     -1.436      0.151      -0.237       0.036\n",
       "income         0.6801      0.038     17.898      0.000       0.606       0.755\n",
       "==============================================================================\n",
       "\"\"\""
      ]
     },
     "execution_count": 216,
     "metadata": {},
     "output_type": "execute_result"
    }
   ],
   "source": [
    "# Predict probabilities for promotion = 0 and promotion = 1\n",
    "data_no_promotion = data.copy()\n",
    "data_no_promotion['promotion'] = 0  # Set promotion to 0\n",
    "data_promotion = data.copy()\n",
    "data_promotion['promotion'] = 1  # Set promotion to 1\n",
    "\n",
    "# Fit the simpler model\n",
    "model = sm.GLM.from_formula(\"bought_product_A ~ promotion + income\", data, \n",
    "                                 family=sm.families.Binomial(link=sm.families.links.probit()))\n",
    "mdl = model.fit()\n",
    "\n",
    "# Predict probabilities\n",
    "prob_no_promotion = mdl.predict(data_no_promotion)\n",
    "prob_promotion = mdl.predict(data_promotion)\n",
    "\n",
    "# Marginal effect on probability scale\n",
    "me_correct = np.mean(prob_promotion - prob_no_promotion)\n",
    "print(me_correct*100)\n",
    "mdl.summary()"
   ]
  },
  {
   "cell_type": "markdown",
   "metadata": {},
   "source": [
    "The mediation analysis and adjusting for confounder is the correct way to analyze the effect. Mediation analysis will add the benefit of separating direct and indirect effects, which can be very helpful. In this case we can see that reading the reviews is really detrimental for the effectiveness of the campaign."
   ]
  },
  {
   "cell_type": "markdown",
   "metadata": {},
   "source": [
    "## Adjusting for confounder + collider"
   ]
  },
  {
   "cell_type": "code",
   "execution_count": 218,
   "metadata": {},
   "outputs": [
    {
     "name": "stdout",
     "output_type": "stream",
     "text": [
      "-3.3364042018227464\n"
     ]
    },
    {
     "data": {
      "text/html": [
       "<table class=\"simpletable\">\n",
       "<caption>Generalized Linear Model Regression Results</caption>\n",
       "<tr>\n",
       "  <th>Dep. Variable:</th>   <td>bought_product_A</td> <th>  No. Observations:  </th>  <td> 10000</td> \n",
       "</tr>\n",
       "<tr>\n",
       "  <th>Model:</th>                  <td>GLM</td>       <th>  Df Residuals:      </th>  <td>  9996</td> \n",
       "</tr>\n",
       "<tr>\n",
       "  <th>Model Family:</th>        <td>Binomial</td>     <th>  Df Model:          </th>  <td>     3</td> \n",
       "</tr>\n",
       "<tr>\n",
       "  <th>Link Function:</th>        <td>probit</td>      <th>  Scale:             </th> <td>  1.0000</td>\n",
       "</tr>\n",
       "<tr>\n",
       "  <th>Method:</th>                <td>IRLS</td>       <th>  Log-Likelihood:    </th> <td> -1615.4</td>\n",
       "</tr>\n",
       "<tr>\n",
       "  <th>Date:</th>            <td>Mon, 09 Dec 2024</td> <th>  Deviance:          </th> <td>  3230.8</td>\n",
       "</tr>\n",
       "<tr>\n",
       "  <th>Time:</th>                <td>10:29:45</td>     <th>  Pearson chi2:      </th> <td>1.16e+04</td>\n",
       "</tr>\n",
       "<tr>\n",
       "  <th>No. Iterations:</th>          <td>8</td>        <th>                     </th>     <td> </td>   \n",
       "</tr>\n",
       "<tr>\n",
       "  <th>Covariance Type:</th>     <td>nonrobust</td>    <th>                     </th>     <td> </td>   \n",
       "</tr>\n",
       "</table>\n",
       "<table class=\"simpletable\">\n",
       "<tr>\n",
       "           <td></td>             <th>coef</th>     <th>std err</th>      <th>z</th>      <th>P>|z|</th>  <th>[0.025</th>    <th>0.975]</th>  \n",
       "</tr>\n",
       "<tr>\n",
       "  <th>Intercept</th>          <td>   -2.2327</td> <td>    0.131</td> <td>  -17.019</td> <td> 0.000</td> <td>   -2.490</td> <td>   -1.976</td>\n",
       "</tr>\n",
       "<tr>\n",
       "  <th>promotion</th>          <td>   -0.4291</td> <td>    0.095</td> <td>   -4.537</td> <td> 0.000</td> <td>   -0.615</td> <td>   -0.244</td>\n",
       "</tr>\n",
       "<tr>\n",
       "  <th>income</th>             <td>    0.7084</td> <td>    0.052</td> <td>   13.581</td> <td> 0.000</td> <td>    0.606</td> <td>    0.811</td>\n",
       "</tr>\n",
       "<tr>\n",
       "  <th>total_amount_spent</th> <td>    0.1112</td> <td>    0.003</td> <td>   37.819</td> <td> 0.000</td> <td>    0.105</td> <td>    0.117</td>\n",
       "</tr>\n",
       "</table>"
      ],
      "text/plain": [
       "<class 'statsmodels.iolib.summary.Summary'>\n",
       "\"\"\"\n",
       "                 Generalized Linear Model Regression Results                  \n",
       "==============================================================================\n",
       "Dep. Variable:       bought_product_A   No. Observations:                10000\n",
       "Model:                            GLM   Df Residuals:                     9996\n",
       "Model Family:                Binomial   Df Model:                            3\n",
       "Link Function:                 probit   Scale:                          1.0000\n",
       "Method:                          IRLS   Log-Likelihood:                -1615.4\n",
       "Date:                Mon, 09 Dec 2024   Deviance:                       3230.8\n",
       "Time:                        10:29:45   Pearson chi2:                 1.16e+04\n",
       "No. Iterations:                     8                                         \n",
       "Covariance Type:            nonrobust                                         \n",
       "======================================================================================\n",
       "                         coef    std err          z      P>|z|      [0.025      0.975]\n",
       "--------------------------------------------------------------------------------------\n",
       "Intercept             -2.2327      0.131    -17.019      0.000      -2.490      -1.976\n",
       "promotion             -0.4291      0.095     -4.537      0.000      -0.615      -0.244\n",
       "income                 0.7084      0.052     13.581      0.000       0.606       0.811\n",
       "total_amount_spent     0.1112      0.003     37.819      0.000       0.105       0.117\n",
       "======================================================================================\n",
       "\"\"\""
      ]
     },
     "execution_count": 218,
     "metadata": {},
     "output_type": "execute_result"
    }
   ],
   "source": [
    "# Predict probabilities for promotion = 0 and promotion = 1\n",
    "data_no_promotion = data.copy()\n",
    "data_no_promotion['promotion'] = 0  # Set promotion to 0\n",
    "data_promotion = data.copy()\n",
    "data_promotion['promotion'] = 1  # Set promotion to 1\n",
    "\n",
    "# Fit the simpler model\n",
    "model = sm.GLM.from_formula(\"bought_product_A ~ promotion + income + total_amount_spent\", data, \n",
    "                                 family=sm.families.Binomial(link=sm.families.links.probit()))\n",
    "mdl = model.fit()\n",
    "\n",
    "# Predict probabilities\n",
    "prob_no_promotion = mdl.predict(data_no_promotion)\n",
    "prob_promotion = mdl.predict(data_promotion)\n",
    "\n",
    "# Marginal effect on probability scale\n",
    "me_con_col = np.mean(prob_promotion - prob_no_promotion)\n",
    "print(me_con_col*100)\n",
    "mdl.summary()"
   ]
  },
  {
   "cell_type": "markdown",
   "metadata": {},
   "source": [
    "## Adjusting for everything"
   ]
  },
  {
   "cell_type": "code",
   "execution_count": 224,
   "metadata": {},
   "outputs": [
    {
     "name": "stdout",
     "output_type": "stream",
     "text": [
      "6.3313454455849545\n"
     ]
    },
    {
     "data": {
      "text/html": [
       "<table class=\"simpletable\">\n",
       "<caption>Generalized Linear Model Regression Results</caption>\n",
       "<tr>\n",
       "  <th>Dep. Variable:</th>   <td>bought_product_A</td> <th>  No. Observations:  </th>  <td> 10000</td> \n",
       "</tr>\n",
       "<tr>\n",
       "  <th>Model:</th>                  <td>GLM</td>       <th>  Df Residuals:      </th>  <td>  9995</td> \n",
       "</tr>\n",
       "<tr>\n",
       "  <th>Model Family:</th>        <td>Binomial</td>     <th>  Df Model:          </th>  <td>     4</td> \n",
       "</tr>\n",
       "<tr>\n",
       "  <th>Link Function:</th>        <td>probit</td>      <th>  Scale:             </th> <td>  1.0000</td>\n",
       "</tr>\n",
       "<tr>\n",
       "  <th>Method:</th>                <td>IRLS</td>       <th>  Log-Likelihood:    </th> <td> -1393.0</td>\n",
       "</tr>\n",
       "<tr>\n",
       "  <th>Date:</th>            <td>Mon, 09 Dec 2024</td> <th>  Deviance:          </th> <td>  2785.9</td>\n",
       "</tr>\n",
       "<tr>\n",
       "  <th>Time:</th>                <td>10:59:16</td>     <th>  Pearson chi2:      </th> <td>1.40e+04</td>\n",
       "</tr>\n",
       "<tr>\n",
       "  <th>No. Iterations:</th>          <td>8</td>        <th>                     </th>     <td> </td>   \n",
       "</tr>\n",
       "<tr>\n",
       "  <th>Covariance Type:</th>     <td>nonrobust</td>    <th>                     </th>     <td> </td>   \n",
       "</tr>\n",
       "</table>\n",
       "<table class=\"simpletable\">\n",
       "<tr>\n",
       "               <td></td>                 <th>coef</th>     <th>std err</th>      <th>z</th>      <th>P>|z|</th>  <th>[0.025</th>    <th>0.975]</th>  \n",
       "</tr>\n",
       "<tr>\n",
       "  <th>Intercept</th>                  <td>   -1.5859</td> <td>    0.143</td> <td>  -11.090</td> <td> 0.000</td> <td>   -1.866</td> <td>   -1.306</td>\n",
       "</tr>\n",
       "<tr>\n",
       "  <th>promotion</th>                  <td>    0.6736</td> <td>    0.115</td> <td>    5.838</td> <td> 0.000</td> <td>    0.447</td> <td>    0.900</td>\n",
       "</tr>\n",
       "<tr>\n",
       "  <th>income</th>                     <td>    0.8097</td> <td>    0.057</td> <td>   14.114</td> <td> 0.000</td> <td>    0.697</td> <td>    0.922</td>\n",
       "</tr>\n",
       "<tr>\n",
       "  <th>total_amount_spent</th>         <td>    0.1102</td> <td>    0.003</td> <td>   35.167</td> <td> 0.000</td> <td>    0.104</td> <td>    0.116</td>\n",
       "</tr>\n",
       "<tr>\n",
       "  <th>time_spent_reading_reviews</th> <td>   -0.5704</td> <td>    0.030</td> <td>  -19.319</td> <td> 0.000</td> <td>   -0.628</td> <td>   -0.513</td>\n",
       "</tr>\n",
       "</table>"
      ],
      "text/plain": [
       "<class 'statsmodels.iolib.summary.Summary'>\n",
       "\"\"\"\n",
       "                 Generalized Linear Model Regression Results                  \n",
       "==============================================================================\n",
       "Dep. Variable:       bought_product_A   No. Observations:                10000\n",
       "Model:                            GLM   Df Residuals:                     9995\n",
       "Model Family:                Binomial   Df Model:                            4\n",
       "Link Function:                 probit   Scale:                          1.0000\n",
       "Method:                          IRLS   Log-Likelihood:                -1393.0\n",
       "Date:                Mon, 09 Dec 2024   Deviance:                       2785.9\n",
       "Time:                        10:59:16   Pearson chi2:                 1.40e+04\n",
       "No. Iterations:                     8                                         \n",
       "Covariance Type:            nonrobust                                         \n",
       "==============================================================================================\n",
       "                                 coef    std err          z      P>|z|      [0.025      0.975]\n",
       "----------------------------------------------------------------------------------------------\n",
       "Intercept                     -1.5859      0.143    -11.090      0.000      -1.866      -1.306\n",
       "promotion                      0.6736      0.115      5.838      0.000       0.447       0.900\n",
       "income                         0.8097      0.057     14.114      0.000       0.697       0.922\n",
       "total_amount_spent             0.1102      0.003     35.167      0.000       0.104       0.116\n",
       "time_spent_reading_reviews    -0.5704      0.030    -19.319      0.000      -0.628      -0.513\n",
       "==============================================================================================\n",
       "\"\"\""
      ]
     },
     "execution_count": 224,
     "metadata": {},
     "output_type": "execute_result"
    }
   ],
   "source": [
    "# Predict probabilities for promotion = 0 and promotion = 1\n",
    "data_no_promotion = data.copy()\n",
    "data_no_promotion['promotion'] = 0  # Set promotion to 0\n",
    "data_promotion = data.copy()\n",
    "data_promotion['promotion'] = 1  # Set promotion to 1\n",
    "\n",
    "# Fit the simpler model\n",
    "model = sm.GLM.from_formula(\"bought_product_A ~ promotion + income + total_amount_spent + time_spent_reading_reviews\", data, \n",
    "                                 family=sm.families.Binomial(link=sm.families.links.probit()))\n",
    "mdl = model.fit()\n",
    "\n",
    "# Predict probabilities\n",
    "prob_no_promotion = mdl.predict(data_no_promotion)\n",
    "prob_promotion = mdl.predict(data_promotion)\n",
    "\n",
    "# Marginal effect on probability scale\n",
    "me_all = np.mean(prob_promotion - prob_no_promotion)\n",
    "print(me_all*100)\n",
    "mdl.summary()"
   ]
  },
  {
   "cell_type": "markdown",
   "metadata": {},
   "source": [
    "## No adjustments"
   ]
  },
  {
   "cell_type": "code",
   "execution_count": 219,
   "metadata": {},
   "outputs": [
    {
     "name": "stdout",
     "output_type": "stream",
     "text": [
      "2.9070637941421893\n"
     ]
    },
    {
     "data": {
      "text/html": [
       "<table class=\"simpletable\">\n",
       "<caption>Generalized Linear Model Regression Results</caption>\n",
       "<tr>\n",
       "  <th>Dep. Variable:</th>   <td>bought_product_A</td> <th>  No. Observations:  </th>  <td> 10000</td> \n",
       "</tr>\n",
       "<tr>\n",
       "  <th>Model:</th>                  <td>GLM</td>       <th>  Df Residuals:      </th>  <td>  9998</td> \n",
       "</tr>\n",
       "<tr>\n",
       "  <th>Model Family:</th>        <td>Binomial</td>     <th>  Df Model:          </th>  <td>     1</td> \n",
       "</tr>\n",
       "<tr>\n",
       "  <th>Link Function:</th>        <td>probit</td>      <th>  Scale:             </th> <td>  1.0000</td>\n",
       "</tr>\n",
       "<tr>\n",
       "  <th>Method:</th>                <td>IRLS</td>       <th>  Log-Likelihood:    </th> <td> -3177.3</td>\n",
       "</tr>\n",
       "<tr>\n",
       "  <th>Date:</th>            <td>Mon, 09 Dec 2024</td> <th>  Deviance:          </th> <td>  6354.5</td>\n",
       "</tr>\n",
       "<tr>\n",
       "  <th>Time:</th>                <td>10:30:10</td>     <th>  Pearson chi2:      </th> <td>1.00e+04</td>\n",
       "</tr>\n",
       "<tr>\n",
       "  <th>No. Iterations:</th>          <td>5</td>        <th>                     </th>     <td> </td>   \n",
       "</tr>\n",
       "<tr>\n",
       "  <th>Covariance Type:</th>     <td>nonrobust</td>    <th>                     </th>     <td> </td>   \n",
       "</tr>\n",
       "</table>\n",
       "<table class=\"simpletable\">\n",
       "<tr>\n",
       "      <td></td>         <th>coef</th>     <th>std err</th>      <th>z</th>      <th>P>|z|</th>  <th>[0.025</th>    <th>0.975]</th>  \n",
       "</tr>\n",
       "<tr>\n",
       "  <th>Intercept</th> <td>    1.1551</td> <td>    0.064</td> <td>   18.108</td> <td> 0.000</td> <td>    1.030</td> <td>    1.280</td>\n",
       "</tr>\n",
       "<tr>\n",
       "  <th>promotion</th> <td>    0.1558</td> <td>    0.066</td> <td>    2.351</td> <td> 0.019</td> <td>    0.026</td> <td>    0.286</td>\n",
       "</tr>\n",
       "</table>"
      ],
      "text/plain": [
       "<class 'statsmodels.iolib.summary.Summary'>\n",
       "\"\"\"\n",
       "                 Generalized Linear Model Regression Results                  \n",
       "==============================================================================\n",
       "Dep. Variable:       bought_product_A   No. Observations:                10000\n",
       "Model:                            GLM   Df Residuals:                     9998\n",
       "Model Family:                Binomial   Df Model:                            1\n",
       "Link Function:                 probit   Scale:                          1.0000\n",
       "Method:                          IRLS   Log-Likelihood:                -3177.3\n",
       "Date:                Mon, 09 Dec 2024   Deviance:                       6354.5\n",
       "Time:                        10:30:10   Pearson chi2:                 1.00e+04\n",
       "No. Iterations:                     5                                         \n",
       "Covariance Type:            nonrobust                                         \n",
       "==============================================================================\n",
       "                 coef    std err          z      P>|z|      [0.025      0.975]\n",
       "------------------------------------------------------------------------------\n",
       "Intercept      1.1551      0.064     18.108      0.000       1.030       1.280\n",
       "promotion      0.1558      0.066      2.351      0.019       0.026       0.286\n",
       "==============================================================================\n",
       "\"\"\""
      ]
     },
     "execution_count": 219,
     "metadata": {},
     "output_type": "execute_result"
    }
   ],
   "source": [
    "# Predict probabilities for promotion = 0 and promotion = 1\n",
    "data_no_promotion = data.copy()\n",
    "data_no_promotion['promotion'] = 0  # Set promotion to 0\n",
    "data_promotion = data.copy()\n",
    "data_promotion['promotion'] = 1  # Set promotion to 1\n",
    "\n",
    "# Fit the simpler model\n",
    "model = sm.GLM.from_formula(\"bought_product_A ~ promotion\", data, \n",
    "                                 family=sm.families.Binomial(link=sm.families.links.probit()))\n",
    "mdl = model.fit()\n",
    "\n",
    "# Predict probabilities\n",
    "prob_no_promotion = mdl.predict(data_no_promotion)\n",
    "prob_promotion = mdl.predict(data_promotion)\n",
    "\n",
    "# Marginal effect on probability scale\n",
    "me_con_col = np.mean(prob_promotion - prob_no_promotion)\n",
    "print(me_con_col*100)\n",
    "mdl.summary()"
   ]
  },
  {
   "cell_type": "code",
   "execution_count": 222,
   "metadata": {},
   "outputs": [
    {
     "data": {
      "image/png": "[encoded data removed]",
      "text/latex": [
       "$\\displaystyle 0.029070637941421174$"
      ],
      "text/plain": [
       "0.029070637941421174"
      ]
     },
     "execution_count": 222,
     "metadata": {},
     "output_type": "execute_result"
    }
   ],
   "source": [
    "# Same results as doing no adjustments\n",
    "data.groupby('promotion').agg('bought_product_A').mean().diff()[1]"
   ]
  }
 ],
 "metadata": {
  "kernelspec": {
   "display_name": "Python 3",
   "language": "python",
   "name": "python3"
  },
  "language_info": {
   "codemirror_mode": {
    "name": "ipython",
    "version": 3
   },
   "file_extension": ".py",
   "mimetype": "text/x-python",
   "name": "python",
   "nbconvert_exporter": "python",
   "pygments_lexer": "ipython3",
   "version": "3.7.6"
  }
 },
 "nbformat": 4,
 "nbformat_minor": 4
}
